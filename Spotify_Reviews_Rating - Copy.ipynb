{
  "cells": [
    {
      "cell_type": "markdown",
      "metadata": {
        "id": "ySsIPBRiorxK"
      },
      "source": [
        "**Dataset**\n",
        "labeled datasset collected from Spotify (Assignment 1 - Spotify Reviews Rating)\n",
        "\n",
        "**Objective**\n",
        "classify Review to a category from 1 to 5. <br>\n",
        "\n",
        "**Total Estimated Time = 90-120 Mins**\n",
        "\n",
        "**Evaluation metric**\n",
        "macro f1 score"
      ]
    },
    {
      "cell_type": "markdown",
      "metadata": {
        "id": "v-6lrKz6orxT"
      },
      "source": [
        "### Import used libraries"
      ]
    },
    {
      "cell_type": "code",
      "execution_count": 41,
      "metadata": {
        "id": "eXUPo3g4orxV"
      },
      "outputs": [],
      "source": [
        "import pandas as pd\n",
        "import numpy as np\n",
        "pd.set_option('display.max_rows', 500)\n",
        "pd.set_option('display.max_colwidth', 500)"
      ]
    },
    {
      "cell_type": "markdown",
      "metadata": {
        "id": "fG8MkuvjorxX"
      },
      "source": [
        "### Load Dataset"
      ]
    },
    {
      "cell_type": "code",
      "execution_count": 89,
      "metadata": {
        "colab": {
          "base_uri": "https://localhost:8080/",
          "height": 850
        },
        "id": "BYeqhp66orxY",
        "outputId": "99666720-13b3-46d3-bb66-20284364a09d"
      },
      "outputs": [
        {
          "data": {
            "application/vnd.google.colaboratory.intrinsic+json": {
              "summary": "{\n  \"name\": \"data\",\n  \"rows\": 61594,\n  \"fields\": [\n    {\n      \"column\": \"Time_submitted\",\n      \"properties\": {\n        \"dtype\": \"object\",\n        \"num_unique_values\": 53009,\n        \"samples\": [\n          \"4/15/2022 17:42\",\n          \"2/16/2022 15:42\",\n          \"2/18/2022 06:23\"\n        ],\n        \"semantic_type\": \"\",\n        \"description\": \"\"\n      }\n    },\n    {\n      \"column\": \"Review\",\n      \"properties\": {\n        \"dtype\": \"string\",\n        \"num_unique_values\": 61352,\n        \"samples\": [\n          \"Sometimes it crashes and the equaliser does not work properly and the downloaded songs can't be played so i just need to download some of them again and again. I think Spotify Should solve those problems ASAP. Overall the app is good with Premium Membership\",\n          \"Some of the songs I would like only have covers, and often crashes while using\",\n          \"Ads can be reduced\"\n        ],\n        \"semantic_type\": \"\",\n        \"description\": \"\"\n      }\n    },\n    {\n      \"column\": \"Rating\",\n      \"properties\": {\n        \"dtype\": \"number\",\n        \"std\": 1,\n        \"min\": 1,\n        \"max\": 5,\n        \"num_unique_values\": 5,\n        \"samples\": [\n          4,\n          2,\n          1\n        ],\n        \"semantic_type\": \"\",\n        \"description\": \"\"\n      }\n    }\n  ]\n}",
              "type": "dataframe",
              "variable_name": "data"
            },
            "text/html": [
              "\n",
              "  <div id=\"df-95956a79-5271-4e48-97a7-d9e0b1686963\" class=\"colab-df-container\">\n",
              "    <div>\n",
              "<style scoped>\n",
              "    .dataframe tbody tr th:only-of-type {\n",
              "        vertical-align: middle;\n",
              "    }\n",
              "\n",
              "    .dataframe tbody tr th {\n",
              "        vertical-align: top;\n",
              "    }\n",
              "\n",
              "    .dataframe thead th {\n",
              "        text-align: right;\n",
              "    }\n",
              "</style>\n",
              "<table border=\"1\" class=\"dataframe\">\n",
              "  <thead>\n",
              "    <tr style=\"text-align: right;\">\n",
              "      <th></th>\n",
              "      <th>Time_submitted</th>\n",
              "      <th>Review</th>\n",
              "      <th>Rating</th>\n",
              "    </tr>\n",
              "  </thead>\n",
              "  <tbody>\n",
              "    <tr>\n",
              "      <th>0</th>\n",
              "      <td>7/9/2022 15:00</td>\n",
              "      <td>Great music service, the audio is high quality and the app is easy to use. Also very quick and friendly support.</td>\n",
              "      <td>5</td>\n",
              "    </tr>\n",
              "    <tr>\n",
              "      <th>1</th>\n",
              "      <td>7/9/2022 14:21</td>\n",
              "      <td>Please ignore previous negative rating. This app is super great. I give it five stars+</td>\n",
              "      <td>5</td>\n",
              "    </tr>\n",
              "    <tr>\n",
              "      <th>2</th>\n",
              "      <td>7/9/2022 13:27</td>\n",
              "      <td>This pop-up \"Get the best Spotify experience on Android 12\" is too annoying. Please let's get rid of this.</td>\n",
              "      <td>4</td>\n",
              "    </tr>\n",
              "    <tr>\n",
              "      <th>3</th>\n",
              "      <td>7/9/2022 13:26</td>\n",
              "      <td>Really buggy and terrible to use as of recently</td>\n",
              "      <td>1</td>\n",
              "    </tr>\n",
              "    <tr>\n",
              "      <th>4</th>\n",
              "      <td>7/9/2022 13:20</td>\n",
              "      <td>Dear Spotify why do I get songs that I didn't put on my playlist??? And why do we have shuffle play?</td>\n",
              "      <td>1</td>\n",
              "    </tr>\n",
              "    <tr>\n",
              "      <th>5</th>\n",
              "      <td>7/9/2022 13:20</td>\n",
              "      <td>The player controls sometimes disappear for no reason. App restart forgets what I was playing but fixes the issue.</td>\n",
              "      <td>3</td>\n",
              "    </tr>\n",
              "    <tr>\n",
              "      <th>6</th>\n",
              "      <td>7/9/2022 13:19</td>\n",
              "      <td>I love the selection and the lyrics are provided with the song you're listening to!</td>\n",
              "      <td>5</td>\n",
              "    </tr>\n",
              "    <tr>\n",
              "      <th>7</th>\n",
              "      <td>7/9/2022 13:17</td>\n",
              "      <td>Still extremely slow when changing storage to external sd card.. I'm convinced this is done on purpose, spotify knows of this issue and has done NOTHING to solve it! Over time I have changed sd cards, each being faster in read, write speeds(all samsung brand). And please add \"don't like song\" so it will never appear again in my searches or playlists.</td>\n",
              "      <td>3</td>\n",
              "    </tr>\n",
              "    <tr>\n",
              "      <th>8</th>\n",
              "      <td>7/9/2022 13:16</td>\n",
              "      <td>It's a great app and the best mp3 music app I have ever used but there is one problem that, why can't we play some songs or find some songs? despite this the app is wonderful I recommend it. it's just the best.</td>\n",
              "      <td>5</td>\n",
              "    </tr>\n",
              "    <tr>\n",
              "      <th>9</th>\n",
              "      <td>7/9/2022 13:11</td>\n",
              "      <td>I'm deleting this app, for the following reasons: This app now has a failing business model. Whether streaming services like it, or not: the consumer doesn't want to pay for music they can't fully own, and 6 ads successively, upon logging in, before a single song, is too much. Closed the app during ad number 6, and I'm more patient than most. If those are the only ways you can profit: you've already peaked. All that's left is your decline.</td>\n",
              "      <td>1</td>\n",
              "    </tr>\n",
              "    <tr>\n",
              "      <th>10</th>\n",
              "      <td>7/9/2022 13:11</td>\n",
              "      <td>Love Spotify, and usually this app is the best, but as others have stated; the control buttons disappear and podcasts stop for no reason, which is only fixed by deleting and reinstalling the app. First world problems for sure, but highly annoying nonetheless, especially when paying for prime.</td>\n",
              "      <td>2</td>\n",
              "    </tr>\n",
              "    <tr>\n",
              "      <th>11</th>\n",
              "      <td>7/9/2022 13:10</td>\n",
              "      <td>Can't play Spotify when on WiFi</td>\n",
              "      <td>1</td>\n",
              "    </tr>\n",
              "    <tr>\n",
              "      <th>12</th>\n",
              "      <td>7/9/2022 13:09</td>\n",
              "      <td>I had amazon premium music family package and it was good. Everyone could listen to whatever they liked on their respective alexas in their rooms by just asking to play, no problem. We now have spotify premium family and the alexa integration is poor. It just doesn't like spotify. It just stops playing all of the time , you can't play on different alexa devices at the same time just by asking. Why isn't the integration better?</td>\n",
              "      <td>1</td>\n",
              "    </tr>\n",
              "    <tr>\n",
              "      <th>13</th>\n",
              "      <td>7/9/2022 13:09</td>\n",
              "      <td>Worst app always says I'm offline and never showed any song or podcast</td>\n",
              "      <td>1</td>\n",
              "    </tr>\n",
              "    <tr>\n",
              "      <th>14</th>\n",
              "      <td>7/9/2022 13:08</td>\n",
              "      <td>i hav any music that i like it is super🙌</td>\n",
              "      <td>5</td>\n",
              "    </tr>\n",
              "    <tr>\n",
              "      <th>15</th>\n",
              "      <td>7/9/2022 13:05</td>\n",
              "      <td>Improve the IA to recommend songs and to find similar songs and it'll be the best music app, YouTube is better on that, on everything else, Spotify is the king!</td>\n",
              "      <td>5</td>\n",
              "    </tr>\n",
              "    <tr>\n",
              "      <th>16</th>\n",
              "      <td>7/9/2022 13:00</td>\n",
              "      <td>Android user - there are loads of glitches with this app... player bar disappears, shuffle button missing....sort it out please</td>\n",
              "      <td>2</td>\n",
              "    </tr>\n",
              "    <tr>\n",
              "      <th>17</th>\n",
              "      <td>7/9/2022 13:00</td>\n",
              "      <td>I can't listen to my DOWNLOADED playlist while I'm offline. So what's the point of this feature? Disappointed..</td>\n",
              "      <td>3</td>\n",
              "    </tr>\n",
              "    <tr>\n",
              "      <th>18</th>\n",
              "      <td>7/9/2022 12:58</td>\n",
              "      <td>It always crashing down; unable to play and just stop working everytime I use it</td>\n",
              "      <td>1</td>\n",
              "    </tr>\n",
              "    <tr>\n",
              "      <th>19</th>\n",
              "      <td>7/9/2022 12:58</td>\n",
              "      <td>I know ads are the cost to free use And yes thats all right But 3 ads straight back to back Like for 1 and a hlaf minutes sometimes Don't you think that's a little much ? And even the volume increases just for the Ads.</td>\n",
              "      <td>1</td>\n",
              "    </tr>\n",
              "  </tbody>\n",
              "</table>\n",
              "</div>\n",
              "    <div class=\"colab-df-buttons\">\n",
              "\n",
              "  <div class=\"colab-df-container\">\n",
              "    <button class=\"colab-df-convert\" onclick=\"convertToInteractive('df-95956a79-5271-4e48-97a7-d9e0b1686963')\"\n",
              "            title=\"Convert this dataframe to an interactive table.\"\n",
              "            style=\"display:none;\">\n",
              "\n",
              "  <svg xmlns=\"http://www.w3.org/2000/svg\" height=\"24px\" viewBox=\"0 -960 960 960\">\n",
              "    <path d=\"M120-120v-720h720v720H120Zm60-500h600v-160H180v160Zm220 220h160v-160H400v160Zm0 220h160v-160H400v160ZM180-400h160v-160H180v160Zm440 0h160v-160H620v160ZM180-180h160v-160H180v160Zm440 0h160v-160H620v160Z\"/>\n",
              "  </svg>\n",
              "    </button>\n",
              "\n",
              "  <style>\n",
              "    .colab-df-container {\n",
              "      display:flex;\n",
              "      gap: 12px;\n",
              "    }\n",
              "\n",
              "    .colab-df-convert {\n",
              "      background-color: #E8F0FE;\n",
              "      border: none;\n",
              "      border-radius: 50%;\n",
              "      cursor: pointer;\n",
              "      display: none;\n",
              "      fill: #1967D2;\n",
              "      height: 32px;\n",
              "      padding: 0 0 0 0;\n",
              "      width: 32px;\n",
              "    }\n",
              "\n",
              "    .colab-df-convert:hover {\n",
              "      background-color: #E2EBFA;\n",
              "      box-shadow: 0px 1px 2px rgba(60, 64, 67, 0.3), 0px 1px 3px 1px rgba(60, 64, 67, 0.15);\n",
              "      fill: #174EA6;\n",
              "    }\n",
              "\n",
              "    .colab-df-buttons div {\n",
              "      margin-bottom: 4px;\n",
              "    }\n",
              "\n",
              "    [theme=dark] .colab-df-convert {\n",
              "      background-color: #3B4455;\n",
              "      fill: #D2E3FC;\n",
              "    }\n",
              "\n",
              "    [theme=dark] .colab-df-convert:hover {\n",
              "      background-color: #434B5C;\n",
              "      box-shadow: 0px 1px 3px 1px rgba(0, 0, 0, 0.15);\n",
              "      filter: drop-shadow(0px 1px 2px rgba(0, 0, 0, 0.3));\n",
              "      fill: #FFFFFF;\n",
              "    }\n",
              "  </style>\n",
              "\n",
              "    <script>\n",
              "      const buttonEl =\n",
              "        document.querySelector('#df-95956a79-5271-4e48-97a7-d9e0b1686963 button.colab-df-convert');\n",
              "      buttonEl.style.display =\n",
              "        google.colab.kernel.accessAllowed ? 'block' : 'none';\n",
              "\n",
              "      async function convertToInteractive(key) {\n",
              "        const element = document.querySelector('#df-95956a79-5271-4e48-97a7-d9e0b1686963');\n",
              "        const dataTable =\n",
              "          await google.colab.kernel.invokeFunction('convertToInteractive',\n",
              "                                                    [key], {});\n",
              "        if (!dataTable) return;\n",
              "\n",
              "        const docLinkHtml = 'Like what you see? Visit the ' +\n",
              "          '<a target=\"_blank\" href=https://colab.research.google.com/notebooks/data_table.ipynb>data table notebook</a>'\n",
              "          + ' to learn more about interactive tables.';\n",
              "        element.innerHTML = '';\n",
              "        dataTable['output_type'] = 'display_data';\n",
              "        await google.colab.output.renderOutput(dataTable, element);\n",
              "        const docLink = document.createElement('div');\n",
              "        docLink.innerHTML = docLinkHtml;\n",
              "        element.appendChild(docLink);\n",
              "      }\n",
              "    </script>\n",
              "  </div>\n",
              "\n",
              "\n",
              "<div id=\"df-f81be6a5-3fd4-435c-982d-39356f3b915e\">\n",
              "  <button class=\"colab-df-quickchart\" onclick=\"quickchart('df-f81be6a5-3fd4-435c-982d-39356f3b915e')\"\n",
              "            title=\"Suggest charts\"\n",
              "            style=\"display:none;\">\n",
              "\n",
              "<svg xmlns=\"http://www.w3.org/2000/svg\" height=\"24px\"viewBox=\"0 0 24 24\"\n",
              "     width=\"24px\">\n",
              "    <g>\n",
              "        <path d=\"M19 3H5c-1.1 0-2 .9-2 2v14c0 1.1.9 2 2 2h14c1.1 0 2-.9 2-2V5c0-1.1-.9-2-2-2zM9 17H7v-7h2v7zm4 0h-2V7h2v10zm4 0h-2v-4h2v4z\"/>\n",
              "    </g>\n",
              "</svg>\n",
              "  </button>\n",
              "\n",
              "<style>\n",
              "  .colab-df-quickchart {\n",
              "      --bg-color: #E8F0FE;\n",
              "      --fill-color: #1967D2;\n",
              "      --hover-bg-color: #E2EBFA;\n",
              "      --hover-fill-color: #174EA6;\n",
              "      --disabled-fill-color: #AAA;\n",
              "      --disabled-bg-color: #DDD;\n",
              "  }\n",
              "\n",
              "  [theme=dark] .colab-df-quickchart {\n",
              "      --bg-color: #3B4455;\n",
              "      --fill-color: #D2E3FC;\n",
              "      --hover-bg-color: #434B5C;\n",
              "      --hover-fill-color: #FFFFFF;\n",
              "      --disabled-bg-color: #3B4455;\n",
              "      --disabled-fill-color: #666;\n",
              "  }\n",
              "\n",
              "  .colab-df-quickchart {\n",
              "    background-color: var(--bg-color);\n",
              "    border: none;\n",
              "    border-radius: 50%;\n",
              "    cursor: pointer;\n",
              "    display: none;\n",
              "    fill: var(--fill-color);\n",
              "    height: 32px;\n",
              "    padding: 0;\n",
              "    width: 32px;\n",
              "  }\n",
              "\n",
              "  .colab-df-quickchart:hover {\n",
              "    background-color: var(--hover-bg-color);\n",
              "    box-shadow: 0 1px 2px rgba(60, 64, 67, 0.3), 0 1px 3px 1px rgba(60, 64, 67, 0.15);\n",
              "    fill: var(--button-hover-fill-color);\n",
              "  }\n",
              "\n",
              "  .colab-df-quickchart-complete:disabled,\n",
              "  .colab-df-quickchart-complete:disabled:hover {\n",
              "    background-color: var(--disabled-bg-color);\n",
              "    fill: var(--disabled-fill-color);\n",
              "    box-shadow: none;\n",
              "  }\n",
              "\n",
              "  .colab-df-spinner {\n",
              "    border: 2px solid var(--fill-color);\n",
              "    border-color: transparent;\n",
              "    border-bottom-color: var(--fill-color);\n",
              "    animation:\n",
              "      spin 1s steps(1) infinite;\n",
              "  }\n",
              "\n",
              "  @keyframes spin {\n",
              "    0% {\n",
              "      border-color: transparent;\n",
              "      border-bottom-color: var(--fill-color);\n",
              "      border-left-color: var(--fill-color);\n",
              "    }\n",
              "    20% {\n",
              "      border-color: transparent;\n",
              "      border-left-color: var(--fill-color);\n",
              "      border-top-color: var(--fill-color);\n",
              "    }\n",
              "    30% {\n",
              "      border-color: transparent;\n",
              "      border-left-color: var(--fill-color);\n",
              "      border-top-color: var(--fill-color);\n",
              "      border-right-color: var(--fill-color);\n",
              "    }\n",
              "    40% {\n",
              "      border-color: transparent;\n",
              "      border-right-color: var(--fill-color);\n",
              "      border-top-color: var(--fill-color);\n",
              "    }\n",
              "    60% {\n",
              "      border-color: transparent;\n",
              "      border-right-color: var(--fill-color);\n",
              "    }\n",
              "    80% {\n",
              "      border-color: transparent;\n",
              "      border-right-color: var(--fill-color);\n",
              "      border-bottom-color: var(--fill-color);\n",
              "    }\n",
              "    90% {\n",
              "      border-color: transparent;\n",
              "      border-bottom-color: var(--fill-color);\n",
              "    }\n",
              "  }\n",
              "</style>\n",
              "\n",
              "  <script>\n",
              "    async function quickchart(key) {\n",
              "      const quickchartButtonEl =\n",
              "        document.querySelector('#' + key + ' button');\n",
              "      quickchartButtonEl.disabled = true;  // To prevent multiple clicks.\n",
              "      quickchartButtonEl.classList.add('colab-df-spinner');\n",
              "      try {\n",
              "        const charts = await google.colab.kernel.invokeFunction(\n",
              "            'suggestCharts', [key], {});\n",
              "      } catch (error) {\n",
              "        console.error('Error during call to suggestCharts:', error);\n",
              "      }\n",
              "      quickchartButtonEl.classList.remove('colab-df-spinner');\n",
              "      quickchartButtonEl.classList.add('colab-df-quickchart-complete');\n",
              "    }\n",
              "    (() => {\n",
              "      let quickchartButtonEl =\n",
              "        document.querySelector('#df-f81be6a5-3fd4-435c-982d-39356f3b915e button');\n",
              "      quickchartButtonEl.style.display =\n",
              "        google.colab.kernel.accessAllowed ? 'block' : 'none';\n",
              "    })();\n",
              "  </script>\n",
              "</div>\n",
              "\n",
              "    </div>\n",
              "  </div>\n"
            ],
            "text/plain": [
              "    Time_submitted  \\\n",
              "0   7/9/2022 15:00   \n",
              "1   7/9/2022 14:21   \n",
              "2   7/9/2022 13:27   \n",
              "3   7/9/2022 13:26   \n",
              "4   7/9/2022 13:20   \n",
              "5   7/9/2022 13:20   \n",
              "6   7/9/2022 13:19   \n",
              "7   7/9/2022 13:17   \n",
              "8   7/9/2022 13:16   \n",
              "9   7/9/2022 13:11   \n",
              "10  7/9/2022 13:11   \n",
              "11  7/9/2022 13:10   \n",
              "12  7/9/2022 13:09   \n",
              "13  7/9/2022 13:09   \n",
              "14  7/9/2022 13:08   \n",
              "15  7/9/2022 13:05   \n",
              "16  7/9/2022 13:00   \n",
              "17  7/9/2022 13:00   \n",
              "18  7/9/2022 12:58   \n",
              "19  7/9/2022 12:58   \n",
              "\n",
              "                                                                                                                                                                                                                                                                                                                                                                                                                                                         Review  \\\n",
              "0                                                                                                                                                                                                                                                                                                                                              Great music service, the audio is high quality and the app is easy to use. Also very quick and friendly support.   \n",
              "1                                                                                                                                                                                                                                                                                                                                                                        Please ignore previous negative rating. This app is super great. I give it five stars+   \n",
              "2                                                                                                                                                                                                                                                                                                                                                    This pop-up \"Get the best Spotify experience on Android 12\" is too annoying. Please let's get rid of this.   \n",
              "3                                                                                                                                                                                                                                                                                                                                                                                                               Really buggy and terrible to use as of recently   \n",
              "4                                                                                                                                                                                                                                                                                                                                                          Dear Spotify why do I get songs that I didn't put on my playlist??? And why do we have shuffle play?   \n",
              "5                                                                                                                                                                                                                                                                                                                                            The player controls sometimes disappear for no reason. App restart forgets what I was playing but fixes the issue.   \n",
              "6                                                                                                                                                                                                                                                                                                                                                                           I love the selection and the lyrics are provided with the song you're listening to!   \n",
              "7                                                                                              Still extremely slow when changing storage to external sd card.. I'm convinced this is done on purpose, spotify knows of this issue and has done NOTHING to solve it! Over time I have changed sd cards, each being faster in read, write speeds(all samsung brand). And please add \"don't like song\" so it will never appear again in my searches or playlists.   \n",
              "8                                                                                                                                                                                                                                            It's a great app and the best mp3 music app I have ever used but there is one problem that, why can't we play some songs or find some songs? despite this the app is wonderful I recommend it. it's just the best.   \n",
              "9   I'm deleting this app, for the following reasons: This app now has a failing business model. Whether streaming services like it, or not: the consumer doesn't want to pay for music they can't fully own, and 6 ads successively, upon logging in, before a single song, is too much. Closed the app during ad number 6, and I'm more patient than most. If those are the only ways you can profit: you've already peaked. All that's left is your decline.   \n",
              "10                                                                                                                                                        Love Spotify, and usually this app is the best, but as others have stated; the control buttons disappear and podcasts stop for no reason, which is only fixed by deleting and reinstalling the app. First world problems for sure, but highly annoying nonetheless, especially when paying for prime.   \n",
              "11                                                                                                                                                                                                                                                                                                                                                                                                                              Can't play Spotify when on WiFi   \n",
              "12               I had amazon premium music family package and it was good. Everyone could listen to whatever they liked on their respective alexas in their rooms by just asking to play, no problem. We now have spotify premium family and the alexa integration is poor. It just doesn't like spotify. It just stops playing all of the time , you can't play on different alexa devices at the same time just by asking. Why isn't the integration better?   \n",
              "13                                                                                                                                                                                                                                                                                                                                                                                       Worst app always says I'm offline and never showed any song or podcast   \n",
              "14                                                                                                                                                                                                                                                                                                                                                                                                                     i hav any music that i like it is super🙌   \n",
              "15                                                                                                                                                                                                                                                                                             Improve the IA to recommend songs and to find similar songs and it'll be the best music app, YouTube is better on that, on everything else, Spotify is the king!   \n",
              "16                                                                                                                                                                                                                                                                                                                              Android user - there are loads of glitches with this app... player bar disappears, shuffle button missing....sort it out please   \n",
              "17                                                                                                                                                                                                                                                                                                                                              I can't listen to my DOWNLOADED playlist while I'm offline. So what's the point of this feature? Disappointed..   \n",
              "18                                                                                                                                                                                                                                                                                                                                                                             It always crashing down; unable to play and just stop working everytime I use it   \n",
              "19                                                                                                                                                                                                                                   I know ads are the cost to free use And yes thats all right But 3 ads straight back to back Like for 1 and a hlaf minutes sometimes Don't you think that's a little much ? And even the volume increases just for the Ads.   \n",
              "\n",
              "    Rating  \n",
              "0        5  \n",
              "1        5  \n",
              "2        4  \n",
              "3        1  \n",
              "4        1  \n",
              "5        3  \n",
              "6        5  \n",
              "7        3  \n",
              "8        5  \n",
              "9        1  \n",
              "10       2  \n",
              "11       1  \n",
              "12       1  \n",
              "13       1  \n",
              "14       5  \n",
              "15       5  \n",
              "16       2  \n",
              "17       3  \n",
              "18       1  \n",
              "19       1  "
            ]
          },
          "execution_count": 89,
          "metadata": {},
          "output_type": "execute_result"
        }
      ],
      "source": [
        "data = pd.read_csv(\"/content/Assignment 1 - Spotify Reviews Rating.csv\")\n",
        "data.head(20)"
      ]
    },
    {
      "cell_type": "code",
      "execution_count": 90,
      "metadata": {
        "colab": {
          "base_uri": "https://localhost:8080/"
        },
        "id": "yHWLF6ZYI3d0",
        "outputId": "569871a4-db04-41a5-fa45-3583855c8353"
      },
      "outputs": [
        {
          "data": {
            "text/plain": [
              "(61594, 3)"
            ]
          },
          "execution_count": 90,
          "metadata": {},
          "output_type": "execute_result"
        }
      ],
      "source": [
        "data.shape"
      ]
    },
    {
      "cell_type": "code",
      "execution_count": 91,
      "metadata": {
        "id": "Gj5CcUsVJveW"
      },
      "outputs": [],
      "source": [
        "data.drop(columns = 'Time_submitted', inplace = True)"
      ]
    },
    {
      "cell_type": "markdown",
      "metadata": {
        "id": "WwgYA3UK-wdI"
      },
      "source": [
        "### Data splitting"
      ]
    },
    {
      "cell_type": "markdown",
      "metadata": {
        "id": "No1L-xvD-wdK"
      },
      "source": [
        "It is a good practice to split the data before EDA helps maintain the integrity of the machine learning process, prevents data leakage, simulates real-world scenarios more accurately, and ensures reliable model performance evaluation on unseen data."
      ]
    },
    {
      "cell_type": "code",
      "execution_count": 7,
      "metadata": {
        "colab": {
          "base_uri": "https://localhost:8080/"
        },
        "id": "KFHxImkmKuH5",
        "outputId": "b96125ee-87dc-436f-812d-209682c865a9"
      },
      "outputs": [
        {
          "data": {
            "text/plain": [
              "Index(['Review', 'Rating'], dtype='object')"
            ]
          },
          "execution_count": 7,
          "metadata": {},
          "output_type": "execute_result"
        }
      ],
      "source": [
        "data.columns"
      ]
    },
    {
      "cell_type": "code",
      "execution_count": 92,
      "metadata": {
        "id": "jUB0m0yK-wdM"
      },
      "outputs": [],
      "source": [
        "from sklearn.model_selection import train_test_split\n",
        "\n",
        "x = data[['Review']]\n",
        "y = data[['Rating']]\n",
        "\n",
        "x_train, x_test, y_train, y_test = train_test_split(x, y, test_size=0.2, random_state=42)"
      ]
    },
    {
      "cell_type": "code",
      "execution_count": 93,
      "metadata": {
        "colab": {
          "base_uri": "https://localhost:8080/"
        },
        "id": "Nm5tMVpp58qO",
        "outputId": "729d1554-066e-4168-be89-ca81dc719a48"
      },
      "outputs": [
        {
          "data": {
            "text/plain": [
              "(49275, 1)"
            ]
          },
          "execution_count": 93,
          "metadata": {},
          "output_type": "execute_result"
        }
      ],
      "source": [
        "x_train.shape"
      ]
    },
    {
      "cell_type": "code",
      "execution_count": 94,
      "metadata": {
        "colab": {
          "base_uri": "https://localhost:8080/"
        },
        "id": "ud6Wlywg5-h7",
        "outputId": "c7142b1a-454d-4fc1-ac93-2a2a3fcb6e28"
      },
      "outputs": [
        {
          "data": {
            "text/plain": [
              "(49275, 1)"
            ]
          },
          "execution_count": 94,
          "metadata": {},
          "output_type": "execute_result"
        }
      ],
      "source": [
        "y_train.shape"
      ]
    },
    {
      "cell_type": "markdown",
      "metadata": {
        "id": "hqWVKi_GorxZ"
      },
      "source": [
        "### EDA on training data"
      ]
    },
    {
      "cell_type": "markdown",
      "metadata": {
        "id": "R1zxJpFxorxa"
      },
      "source": [
        "- check NaNs"
      ]
    },
    {
      "cell_type": "code",
      "execution_count": 95,
      "metadata": {
        "id": "lCwESBv2K3-f"
      },
      "outputs": [],
      "source": [
        "training_data = pd.concat([x_train, y_train], axis = 1)"
      ]
    },
    {
      "cell_type": "code",
      "execution_count": 96,
      "metadata": {
        "colab": {
          "base_uri": "https://localhost:8080/"
        },
        "id": "HVEttSujorxa",
        "outputId": "6d960592-7d59-4125-c3e6-5f177daa9ccd"
      },
      "outputs": [
        {
          "data": {
            "text/plain": [
              "Review    0\n",
              "Rating    0\n",
              "dtype: int64"
            ]
          },
          "execution_count": 96,
          "metadata": {},
          "output_type": "execute_result"
        }
      ],
      "source": [
        "training_data.isnull().sum()"
      ]
    },
    {
      "cell_type": "markdown",
      "metadata": {
        "id": "UwjbzVaIorxb"
      },
      "source": [
        "- check duplicates"
      ]
    },
    {
      "cell_type": "code",
      "execution_count": 97,
      "metadata": {
        "colab": {
          "base_uri": "https://localhost:8080/"
        },
        "id": "J_FlBWISorxb",
        "outputId": "258ec738-c4bd-4792-b2cb-c6e002e4ade9"
      },
      "outputs": [
        {
          "data": {
            "text/plain": [
              "133"
            ]
          },
          "execution_count": 97,
          "metadata": {},
          "output_type": "execute_result"
        }
      ],
      "source": [
        "training_data.duplicated().sum()"
      ]
    },
    {
      "cell_type": "code",
      "execution_count": 98,
      "metadata": {
        "id": "WhES6gJELEHk"
      },
      "outputs": [],
      "source": [
        "training_data.drop_duplicates(inplace = True)"
      ]
    },
    {
      "cell_type": "markdown",
      "metadata": {
        "id": "YjIBFc35orxc"
      },
      "source": [
        "- show a representative sample of data texts to find out required preprocessing steps"
      ]
    },
    {
      "cell_type": "code",
      "execution_count": 99,
      "metadata": {
        "colab": {
          "base_uri": "https://localhost:8080/"
        },
        "id": "zGFKzSCRorxc",
        "outputId": "f98a24d1-e929-429d-92d7-93441ef80af9"
      },
      "outputs": [
        {
          "name": "stdout",
          "output_type": "stream",
          "text": [
            "Forces you to subscribe via their website, no option to use Google Play subscriptions while all other alternatives offer it.\n",
            "----------------------------------------------------------------------------------------------------\n",
            "I like it and although many people are complaining it works just fine the playlist will be \"blocked\" sometimes on some devices because of updates but if you make sure it is updated it is fine.\n",
            "----------------------------------------------------------------------------------------------------\n",
            "Love it. Love the music!\n",
            "----------------------------------------------------------------------------------------------------\n",
            "Constantly crashes the UI but keeps playing. Must be force closed.\n",
            "----------------------------------------------------------------------------------------------------\n",
            "I feel like the only problem with this app is the non member access being unusable.\n",
            "----------------------------------------------------------------------------------------------------\n",
            "The player control bar keeps disappearing, requiring a force quit and a restart (or more frequently 2 or 3 restarts) of the app to gain control of what you're listening to again... Makes the app nearly unusable. Probably going to get YouTube music instead. Stitcher for podcasts again :/ it's a shame.\n",
            "----------------------------------------------------------------------------------------------------\n",
            "Good music app 👍 You can listen offline or online and make playlists with songs you like . You can also find playlists and podcasts, I recommend getting this app :)\n",
            "----------------------------------------------------------------------------------------------------\n",
            "It would've got 5 stars if wasn't for music keeps on breaking up not one song but on all of them. It needs to be fixed ASAP please as it spoiling my listening. I expect it to be perfect especially when I am paying for premium. If it doesn't get sorted soon I'll start seriously of cancelling my subscription. It's driving me mad. Still haven't improved but got worse it spoils my listening. Get better value for my money with amazon music and they don't break up either PLEASE PLEASE PLEASE FIX IT\n",
            "----------------------------------------------------------------------------------------------------\n",
            "Sometimes The Playlist I am playing not plays the next song it plays any other song from a old playlist I selected (Even After I close and open again it doesn't get fixed). Kindly make a refresh button for songs or playlist. Thank You\n",
            "----------------------------------------------------------------------------------------------------\n",
            "the fact that you took away being able to preview songs is really stupid how else am I supposed to know if I'll like a song now.\n",
            "----------------------------------------------------------------------------------------------------\n",
            "This app is good to listen music . But the on and only the problem is more ads are in it so just look into it. That's the main problem apart from that the app is fantastic\n",
            "----------------------------------------------------------------------------------------------------\n",
            "Very good app to find more underground artists!\n",
            "----------------------------------------------------------------------------------------------------\n",
            "I really like Spotify, I can play all my favorite songs in shuffle while my phone off, I have Spotify premium and I think it makes the expirence better but its still enjoyable without premium. Its easy to use and I recommend it to anyone who loves or likes playing the songs they like.\n",
            "----------------------------------------------------------------------------------------------------\n",
            "I have Spotify premium and its anamzing app with or without it. I love listening to my favorite songs on here. I love that I can connect it to my Alexa speaker so I can play music to go to sleep to. I love the display arrangement and the ability to follow artists. This app has so many songs and artists. Ever since I got Spotify its been the only app I use to listen to music or podcasts. Love the app!!!\n",
            "----------------------------------------------------------------------------------------------------\n",
            "Easy listening Easy to find great music\n",
            "----------------------------------------------------------------------------------------------------\n",
            "Use it for streaming everywhere these days. Dropped satellite and only use Spotify now.\n",
            "----------------------------------------------------------------------------------------------------\n",
            "Commercials all over the place\n",
            "----------------------------------------------------------------------------------------------------\n",
            "A lively and exceptional application of contemporary alamode music. Excellent.\n",
            "----------------------------------------------------------------------------------------------------\n",
            "My music is recently turning off, either while I'm playing a game or my phone times ouy. Never happened before, my cellphone provider said its the app itself but i don't know how to fix it , it's frustrating while trying to listen to music\n",
            "----------------------------------------------------------------------------------------------------\n",
            "The free version is useless. It only made me aggressive. The app doesn't remember that it already played the \"once every 30 min\" ad. And bombards me with ads. Never bringing this trash to the gym again. I rather bring a power bank. Useless and very much overhyped.\n",
            "----------------------------------------------------------------------------------------------------\n",
            "I pay for Spotify premium and now whenever I play music The app stops playing music and says there's no internet connection available\n",
            "----------------------------------------------------------------------------------------------------\n",
            "Wide selection of music, but too many ads. Also, the space it takes up is way higher than 28 MB. It will randomly jump up to a GB or higher after a while.\n",
            "----------------------------------------------------------------------------------------------------\n",
            "GET RID OF ENHANCE!! That is the most annoying thing I've ever seen. Otherwise, it's a good app, has a really wide selection of music and has podcasts.\n",
            "----------------------------------------------------------------------------------------------------\n",
            "I would rate this app 5 stars, the quality is perfect I've always wanted a music app like this. The only problem is it has ads after each song...that has to be improved! Its an really amazing app for partying and group study. I will suggest you to download this amazing app!!!!!!!!!!!\n",
            "----------------------------------------------------------------------------------------------------\n",
            "Love this app i hear Any Sound\n",
            "----------------------------------------------------------------------------------------------------\n",
            "Like Spotify, don't like the latest update.. it won't open\n",
            "----------------------------------------------------------------------------------------------------\n",
            "I'm paying for premium. You guys booted me off premium on my phone. I have not been able to log back in. Not good.\n",
            "----------------------------------------------------------------------------------------------------\n",
            "Spotify chooses to side with misinformation so I'm choosing a different service.\n",
            "----------------------------------------------------------------------------------------------------\n",
            "I was in shower while listening to rap music then the song changed and put a Morgan Wallen song on which is country music they need to fix the song chooser but besides that I love spotify. I had the app at 3 star because of my first encounter with country music then I went to my liked songs shuffled them and received Taylor swift I have now deleted spotify and will never download it again.\n",
            "----------------------------------------------------------------------------------------------------\n",
            "The app is normally great, but the last 2 days I don't have any controls. It's very annoying! Please fix this.\n",
            "----------------------------------------------------------------------------------------------------\n",
            "It's great if you know what you're looking for, but the recommendation system can be a pain to manage.\n",
            "----------------------------------------------------------------------------------------------------\n",
            "For some time now the app keeps acting wierd. It plays without me being able to control the music being played the music randomly pauses and in general the listening experience had worsened. I really love the app but this is frustrating.\n",
            "----------------------------------------------------------------------------------------------------\n",
            "Awesome 👍💯 I love this app really much it is just what you want to listen to just search it and found it I love this app so much\n",
            "----------------------------------------------------------------------------------------------------\n",
            "Songs in my playlist keep repeating. Only shuffling through a few then plays the song It played 2 songs ago. I pay for premium but will cancel if not fixed soon.\n",
            "----------------------------------------------------------------------------------------------------\n",
            "They are not playing continue songs we have to click other songs that's very bad but although I like the app\n",
            "----------------------------------------------------------------------------------------------------\n",
            "Too many adds\n",
            "----------------------------------------------------------------------------------------------------\n",
            "I love this apps more convenient for me and feeling comfortable to listening music with a lovely singer that I love\n",
            "----------------------------------------------------------------------------------------------------\n",
            "I love this app for years now, I have been paying premium ever since and downloaded my songs but somehow with the new update it automatically logged off my account and I cant log in. It keeps saying error. Please fix this!! I have been logging in via Facebook but when I log in with the same email it says \"create an account\" but also says \"this email is already connected to an account\". What is going on??\n",
            "----------------------------------------------------------------------------------------------------\n",
            "Please fix the problem with the media player not showing but music is playing. I cannot skip a song as its not showing me me player, but the music does play 13/04/2022\n",
            "----------------------------------------------------------------------------------------------------\n",
            "Amazing, pick ur favorite song Artist..\n",
            "----------------------------------------------------------------------------------------------------\n",
            "Best music app ever! I've never had a problem finding a song. The price isn't bad either. Well worth it.\n",
            "----------------------------------------------------------------------------------------------------\n",
            "One of the best apps I ever downloaded, but the constant adds on free streaming is really annoying, and you can't choose what song you want to play in a playlist\n",
            "----------------------------------------------------------------------------------------------------\n",
            "You think it they got it.wish spotify provide hello tunes like wynk.\n",
            "----------------------------------------------------------------------------------------------------\n",
            "Best among any other music app\n",
            "----------------------------------------------------------------------------------------------------\n",
            "Since when does Spotify Mobile have forced shuffle and plays like a radio? (Not audio quality but mechanics)\n",
            "----------------------------------------------------------------------------------------------------\n",
            "Updates that others have doesn't seem to be applied to all... Like where are my lyrics, also downloaded music doesn't always play with no internet\n",
            "----------------------------------------------------------------------------------------------------\n",
            "Why is it when we choose a song this other random song plays!? I hate the \"update\" pls change it\n",
            "----------------------------------------------------------------------------------------------------\n",
            "Can't even find music you are paying to listen to. App won't let you access your account to cancel. Better off on YouTube mobile browser with the screen blocker.\n",
            "----------------------------------------------------------------------------------------------------\n",
            "Not working with iqoo 9se\n",
            "----------------------------------------------------------------------------------------------------\n",
            "Found some old school memories again music I no longer have so 4 stars love this app wish I could save the music of line for 30days let's say..\n",
            "----------------------------------------------------------------------------------------------------\n",
            "Soo many ads and lyrics not showing pls fix this the ads keep popping up after every 2 songs and which is soo annoying....\n",
            "----------------------------------------------------------------------------------------------------\n",
            "Awesome collections, switched to Spotify full time instead of local music. No need to worry about downloading new songs..\n",
            "----------------------------------------------------------------------------------------------------\n",
            "The app is fine, the problem is you search a song and it shuffles it in with a bunch of other songs. I just want to listen to the one song I searched.\n",
            "----------------------------------------------------------------------------------------------------\n",
            "Great quality and awesome service\n",
            "----------------------------------------------------------------------------------------------------\n",
            "Sound quality of songs are very good and most of songs are available irrespective of language.\n",
            "----------------------------------------------------------------------------------------------------\n",
            "I like this but I kind of have a little bit of Doubt but I like this app because you could still listen to your music even though you turn your phone off and your off of the app you can still listen to the music so I like Spotify\n",
            "----------------------------------------------------------------------------------------------------\n",
            "Great app. I have the paid version so no ads. Worth the money\n",
            "----------------------------------------------------------------------------------------------------\n",
            "You're studying more about what I listen You're genius making daily mix everyday :)\n",
            "----------------------------------------------------------------------------------------------------\n",
            "Love them!!! They are one of the best music and podcast apps out there!!\n",
            "----------------------------------------------------------------------------------------------------\n",
            "Stop putting random music thats not in my playlist even if my playlist is way over 15 music you keep putting random music that i don't like so really bad app pls fix it\n",
            "----------------------------------------------------------------------------------------------------\n",
            "3,500 songs and they remove the scroll bar from the liked songs menu. Been a premium member for the last 6 years or so. Will be looking at switching platforms if the scroll bar doesn't come back.\n",
            "----------------------------------------------------------------------------------------------------\n",
            "Spotify started off excellent, but the problem I had with App has now spread to the desktop. I can no longer play a selected song, there is no longer that icon next to the song. Was considering the premium but this problem has caused me to change my mind. And yes I have restart computer and reinstall App. Happy for those who have no issue . Hope you guys could get this fix.\n",
            "----------------------------------------------------------------------------------------------------\n",
            "Doesn't work with Android OS 11, has 'something went wrong, try again'. Nothing plays and is now unusable. Please fix.\n",
            "----------------------------------------------------------------------------------------------------\n",
            "In car, songs advance but title and artist display does not\n",
            "----------------------------------------------------------------------------------------------------\n",
            "Usually great but there have been gitches lately. Cant always pause in the pull down menu and dosnt stop playing when i open netflix and youtube anymore\n",
            "----------------------------------------------------------------------------------------------------\n",
            "Yk when you Don't have a credit card and you want premium and you want to pay by paysafe just in case add payment by paysafe.But the app is great!\n",
            "----------------------------------------------------------------------------------------------------\n",
            "Disaster area. Play controls keep disappearing.\n",
            "----------------------------------------------------------------------------------------------------\n",
            "Sorry to say but it gives too much adds.. the more good is the music and the more is the no. Of adds . Btw I love it!! Just fix the no. Of adds...!!!\n",
            "----------------------------------------------------------------------------------------------------\n",
            "This app is very... good but I don't find my favourite song on this app, please add this song for me, the song name is 'POISON', singer is Wang Yizhi from China. It's a song of a movie, that movie name is 'ARSENAL MILITARY ACADEMY'. And I don't find this song also, this song name is 'MAIN ZAMEEN TU ASMAAN'. Please Developer add these songs for me please... 🙏🏻 When you add these songs, then I will change my rate of this app 1 star to 5 star. ⭐-⭐⭐⭐⭐⭐\n",
            "----------------------------------------------------------------------------------------------------\n",
            "Great app overall. It's just hard to get it to stop playing certain songs completely. Like I have to consistently remove songs I dislike from suggested playlists.\n",
            "----------------------------------------------------------------------------------------------------\n",
            "Everytime my phone restarts or shuts down everything I ve downloaded dissappears and I have to download them again and again every time.. I use SD Card storage and not the phone's storage. (Galaxy s20 ultra) Please fix this :( despite this, Spotify is my favourite app, no problems, excellent app!\n",
            "----------------------------------------------------------------------------------------------------\n",
            "player bar not showing up anymore, player very buggy\n",
            "----------------------------------------------------------------------------------------------------\n",
            "Music completely stops and to get anything to work I have to kill the app and reopen.\n",
            "----------------------------------------------------------------------------------------------------\n",
            "well the advertisement between songs sucks but still I love this app the most heheh thankuuuu\n",
            "----------------------------------------------------------------------------------------------------\n",
            "PLEASE remove the \"we added these songs to your playlist\" feature, it's absolutely annoying. I want to play some songs on my playlist then suddenly a song im unfamilliar with comes in, like I only wanted to listen to songs in my playlist, not some random sings that I have never even heard of.\n",
            "----------------------------------------------------------------------------------------------------\n",
            "Enjoy the choices I have with Spotify\n",
            "----------------------------------------------------------------------------------------------------\n",
            "It's pretty cool I like it but too much ads and lyrics in songs are wrong but still I like it\n",
            "----------------------------------------------------------------------------------------------------\n",
            "Tried to listen to a song and instead it played 4 ads. I gave up after that. Thanks for killing the app\n",
            "----------------------------------------------------------------------------------------------------\n",
            "Too Much of Ad's.. I'm fed up with this app.. each n wvery time 1 want to hear a song.. first i need to listen to a lenghty add.. which spoils my mood of listening to music.... hectic services.. not at all recommended.. waste app.. pls don't download n waste your time.. 0 rating\n",
            "----------------------------------------------------------------------------------------------------\n",
            "App has been terrible and extremely unusable since the last update. Keeps crashing and the music player doesn't appear. Shouldn't treat a paying customer like this!\n",
            "----------------------------------------------------------------------------------------------------\n",
            "Experiencing a bug where \"now palying\" bar is missing, un able to swith track, and i have to force stop to stop the pause the song.\n",
            "----------------------------------------------------------------------------------------------------\n",
            "What's going on Spotify? I listen on the daily but just recently the app keeps crashing. On top of that, there's no currently playing bar so I can skip or pause the song/podcast. Please fix this bug. The app was just fine before the latest update.\n",
            "----------------------------------------------------------------------------------------------------\n",
            "I truly love listening to all of my playlists on this app. I dislike the amount of ads though.\n",
            "----------------------------------------------------------------------------------------------------\n",
            "All my saved song keeps on downloading everytime I open the app like what the hell is happening with the app I can't enjoy. Please fix it Spotify 🥺\n",
            "----------------------------------------------------------------------------------------------------\n",
            "Spotify, wonderfully wide range of music that I most adore . My Rate: 10/10 grait awesome cool music.\n",
            "----------------------------------------------------------------------------------------------------\n",
            "Love it so far!! Especially since it's commercial free, unlike YouTube Music 🎶\n",
            "----------------------------------------------------------------------------------------------------\n",
            "Spotify is the best app in the world .me that playes roblox all the time ( almost) find spotify the greatsest app and the best app in the world .😁\n",
            "----------------------------------------------------------------------------------------------------\n",
            "Awful. Player never pops up as an active player. The ads are absolutely awful. Stitcher for podcasts and YouTube Music for tunes are way better than this app.\n",
            "----------------------------------------------------------------------------------------------------\n",
            "I love this app. Have been using it for years. However, I've recently switched from an IPhone to an Android, and I noticed that the quality of the app is not the same. Music skips or automatically stops playing during the middle of a song. Unlike the great quality I received on my iPhone. Which it's quite embarrassing when I'm riding in my car with lady friends. I have updated the app and my android is 2 weeks old with updated software. I don't want to leave Spotify. But, I may have to.\n",
            "----------------------------------------------------------------------------------------------------\n",
            "Lost download button. Can't download playlists.\n",
            "----------------------------------------------------------------------------------------------------\n",
            "I made a account and now it isn't working and It won't let me log in. I'm not happy at all. I was listing to a podcast and was booted from the app and forcefully logged out. Now it's having issues letting me log in. I literally have my account t info written down!!! What a load of garbage.\n",
            "----------------------------------------------------------------------------------------------------\n",
            "Unskipabke Ads after every 2 songs played, poor-autoplay recommendation relative to YouTube, miniscule inventory.\n",
            "----------------------------------------------------------------------------------------------------\n",
            "After update, app gets buggy. Have to reboot phone then start it up again. Extremely annoying when I'm at work and trying to listen to music. Used to love it but now going to have rethink paying for something that occasionally works.\n",
            "----------------------------------------------------------------------------------------------------\n",
            "bro fix the login first then come to ads\n",
            "----------------------------------------------------------------------------------------------------\n",
            "Since I've gotten premium, whenever I close the app and come back let's say, 3 hours later, the timer says 3 hours over 3 minutes, and when I tap play, it skips the song. It happens all the time with songs AND podcasts. Also, when I come back to the app and press play, it plays for a sec, and then stops, requiring me to press play again.\n",
            "----------------------------------------------------------------------------------------------------\n",
            "Love Spotify, it's on all day everyday!!!\n",
            "----------------------------------------------------------------------------------------------------\n",
            "Amazing I took of my phone expecting to come off like other apps but it did not I'm impressed if u love playing games while listening to music like me I really say download this app truely amazing\n",
            "----------------------------------------------------------------------------------------------------\n",
            "App constantly crashes and is very buggy\n",
            "----------------------------------------------------------------------------------------------------\n",
            "I love Spotify it's the best app to listen to music\n",
            "----------------------------------------------------------------------------------------------------\n",
            "I use Spotify aton but the new update today is weird. I can no longer pick my song I want from my playlist, and I can't skip more than 6 times in an hour. Sometimes I listen with my family and a song with bad words will come on so I always skip. It's also strange when a new song comes on and I can't exit out of it, or replay my playlist. Can you please just go back... like take away everything you did for the update? Other than that I find no problem and use it alot. This update is useless.\n",
            "----------------------------------------------------------------------------------------------------\n",
            "Can't change songs every other time i open the app and need to restart it. Music turns off every now and then\n",
            "----------------------------------------------------------------------------------------------------\n",
            "ENJOYING A LOT 👍👏👌 SUPERB AND AMAZING APP 💯🌟🌟🌟's REALLY DIL SE ❤️❤️❤️ FROM 🇮🇳🇮🇳🇮🇳 THANKS TO THIS EXTRAORDINARY APP.😀😀😀WONDERFUL SWADESHI APP 🇮🇳🇮🇳🇮🇳. 😀❤️🇮🇳 👍👌 😀 ❤️❤️❤️ BESTEST APP EVER ✨❤️ TO YOU\n",
            "----------------------------------------------------------------------------------------------------\n",
            "App has glitches, whenever I take a WhatsApp call and I'm connected to my cars Bluetooth it starts playing music while I'm on a call. Seriously needs improvement Every time there is a update there always an issue or bug with the app. The latest version keeps on shuffling songs.\n",
            "----------------------------------------------------------------------------------------------------\n",
            "Every single time I open spotify it tells me it's downloading 0 out of 1 songs. But nothing inside the app shows as needing to update. If I tap any of the menus before the app actually loads it just freezes until the application is force closed\n",
            "----------------------------------------------------------------------------------------------------\n",
            "A few songs I could not find that is on every other app other then that it's perfect!!\n",
            "----------------------------------------------------------------------------------------------------\n",
            "Sometimes not every Song in a downloaded Playlist ist downloaded. For the offline using sometimes very bad.\n",
            "----------------------------------------------------------------------------------------------------\n",
            "I wish Spotify didn't constantly show up in my Samsung phone notification screen. No other app has this behavior. Every time I go to my notification screen, Spotify is there showing a play bar and the last song that was played. I've tried a bunch of different things (including turning notifications completely off in the Spotify app settings) but it always appears.\n",
            "----------------------------------------------------------------------------------------------------\n",
            "Worst and worst not even moving to next page\n",
            "----------------------------------------------------------------------------------------------------\n",
            "Love Spotify, period. Great service.\n",
            "----------------------------------------------------------------------------------------------------\n",
            "I cant even choose my stuff, it wont open and it just freezes when i try to get into the app.\n",
            "----------------------------------------------------------------------------------------------------\n",
            "Just keeps making me listen to \"sugested songs\" whenever i try and listen to anything ive even tried other playlists\n",
            "----------------------------------------------------------------------------------------------------\n",
            "It's cool with all the features it has the only problem is that its a disadvantage to some of us who do have credit card or debit cards to pay for other options that are there and also please allow as to choose our own songs the shuffle play sometimes do not work for me I like playing my favorite songs not you choosing what I want to play is cool make some changes please\n",
            "----------------------------------------------------------------------------------------------------\n",
            "Love Spotify. But version as at 14/04 is problematic. No controls once music starts. Things stop playing by themselves. Also heavier push on ads or sponsored content. Moving in wrong direction.\n",
            "----------------------------------------------------------------------------------------------------\n",
            "I love it makes my job go by fast....\n",
            "----------------------------------------------------------------------------------------------------\n",
            "Very buggy since the last update. Music status bar will disappear but the music keeps playing. It was working fine till last update. Pls fix!\n",
            "----------------------------------------------------------------------------------------------------\n",
            "This app only let's me skip a few times and I can't add the song I want anymore so 1 star\n",
            "----------------------------------------------------------------------------------------------------\n",
            "This app is my fav but there are many issues to fix in means like in YouTube there is dawload video so when no network but fun.But there is no options for this or else this app is nice.\n",
            "----------------------------------------------------------------------------------------------------\n",
            "Please change the play, skip and back button to how it used to be\n",
            "----------------------------------------------------------------------------------------------------\n",
            "I love this app!!! I have had this app for maybe about 2 years now and I love it!! I have never had one single issue!!! I only use this app to listen to music (unless I want to watch a music video). They also now have this feature were you can look at the lyrics I have got to say great app!! The only con is the free plan is not what you want but now that I have the premium plan it is the best I definitely recommend this app for anyone who love to listen to music and maybe even sing!!!!!!!\n",
            "----------------------------------------------------------------------------------------------------\n",
            "When I want in the app and played my song it only played the chorus and I wanted to hear the whole thing I will not use this again\n",
            "----------------------------------------------------------------------------------------------------\n",
            "Spotify is a great app and I will always use it to listen to music but I really hate when they add songs to your Playlist it just really isn't necessary at all, I mean it's basically their account and it's like... the government they can do whatever they want if they think it's right for you. All in all spotify is a good app and I recommend it but when you get it make your Playlist over an hour otherwise you will get random songs.\n",
            "----------------------------------------------------------------------------------------------------\n",
            "Cancelling subscription is a headache, did it a multiple times, still the company was trying to charge my card. User experience is below avarage. The app feels like student project turned over night mass adopted. The irony has it that Spotify is the flagship of the Agile methodology, obviously they fall behind massively. If there would be 0 stars then i would award them. To finish on the positive note, yeah, lot of content that's for sure.\n",
            "----------------------------------------------------------------------------------------------------\n",
            "Very nice app for listening songs 👍😁\n",
            "----------------------------------------------------------------------------------------------------\n",
            "Its very difficult to speak with any customer service people\n",
            "----------------------------------------------------------------------------------------------------\n",
            "Try to open my spotify then its crash. Everyday. Why? I already update and uninstall and reinstall. Still happen the same\n",
            "----------------------------------------------------------------------------------------------------\n",
            "I really love this app. Its my go to music listening app everytime\n",
            "----------------------------------------------------------------------------------------------------\n",
            "Had this app since my youth never had a problem with it and all considered worth the pay too, better than any other service.\n",
            "----------------------------------------------------------------------------------------------------\n",
            "Spotify is good app but the main fault of giving two satr is that he don't play those song who choose me and play a rondom song plzz spotify do work on this fault I am done with this fault\n",
            "----------------------------------------------------------------------------------------------------\n",
            "Control player disappears. Please allow for multiple selections of titles. Samsung Fold 3\n",
            "----------------------------------------------------------------------------------------------------\n",
            "I love the discovery option. It's a great way to find new artists to listen to.\n",
            "----------------------------------------------------------------------------------------------------\n",
            "Apps keeps asking me to login and despite several attempts ,i can't log in or access anything\n",
            "----------------------------------------------------------------------------------------------------\n",
            "I like the app BC I can listen to music and play games at same time\n",
            "----------------------------------------------------------------------------------------------------\n",
            "Awesome but a little messed up cause when music plays on it the music fades in and out and skips a little alot.\n",
            "----------------------------------------------------------------------------------------------------\n",
            "Update: App finally works. This was a great app when it worked. Now it never loads.\n",
            "----------------------------------------------------------------------------------------------------\n",
            "Superb awesome music streaming App available in the whole world! Everything works flawlessly, UI is superb and it's dark feels so much better than other apps. I can listen to music and podcasts online/offline I just need canvas feature and 2FA authentication sign-in for this. Would be great.\n",
            "----------------------------------------------------------------------------------------------------\n",
            "App became hot garbage with the latest update. Watch controls and headset controls don't work and app has been ghost playing without showing time on track.\n",
            "----------------------------------------------------------------------------------------------------\n",
            "An amazing app that contains songs👌👌👌👌👌 I'd prefer this to everyone 😜☺️☺️ superb it is 😉🙂🙂👌👌👌🔥🔥\n",
            "----------------------------------------------------------------------------------------------------\n",
            "Don't download guys , this is not music app , it's advertisement app.\n",
            "----------------------------------------------------------------------------------------------------\n",
            "Just to be clear, I downloaded this app for the JRE podcast only. Imagine, we are all sitting in a giant stadium, enclosed, pitch black, dead silent. Out of no where comes the JRE podcast. Like a match flame in this darkness. Everyone one of us can see it. Some choose not to, or deceive others that Joe Rogans light is false. Truth is light. Soon it will affect everyone personally enough to be able to see it differently. And the light that has been there appears to them. Illuminate the darkness.\n",
            "----------------------------------------------------------------------------------------------------\n",
            "I think that it is great just if you add to many songs to one playlist than it will be gone\n",
            "----------------------------------------------------------------------------------------------------\n",
            "Been using Spotify for 8 years now, and I swear it knows be better than I know myself some days. Best streaming service out there, and I recommend it to anyone who needs a premium music streaming subscription\n",
            "----------------------------------------------------------------------------------------------------\n",
            "After the recent update I had constant app crashes, the play bar disappears constantly, the notification doesn't work. Just so a rollback ffs\n",
            "----------------------------------------------------------------------------------------------------\n",
            "I love the variety of music and podcasts on here but this app on my android continually force closes without warning. Half the time the music bar with the play button doesnt appear and I can see / control what is playing beyond shuffle and I pay for premium. Very frustrating.\n",
            "----------------------------------------------------------------------------------------------------\n",
            "New update means I can't do anything useful , can't even pick a song THE POINT OF THE APP.\n",
            "----------------------------------------------------------------------------------------------------\n",
            "Spotify is the best music app out there!!! Yawl better get with the program people. Get Spotify now and try it for yourself, You'll love it too!!!! Spotify, the app to get!!!\n",
            "----------------------------------------------------------------------------------------------------\n",
            "Recommended songs. Stop. It's annoying\n",
            "----------------------------------------------------------------------------------------------------\n",
            "I love it on my Xbox but the mobile app is poorly formatted and impossible to use, and the limited skips an hour is bs, when you run out you can just change the song manually, and why can't you view the songs on a Playlist as a list of individuals like on xbox, the littoral console with a controller being your only way of control, that's right, the xbox version is better formatted than the mobile peice of junk.\n",
            "----------------------------------------------------------------------------------------------------\n",
            "This app is very amazing but songs are not downloaded by this app I want to update for download songs\n",
            "----------------------------------------------------------------------------------------------------\n",
            "Bast app for music lovers ( especially brat songs).\n",
            "----------------------------------------------------------------------------------------------------\n",
            "Love being able to stream my music in my car. I can always find my 80's favourites\n",
            "----------------------------------------------------------------------------------------------------\n"
          ]
        }
      ],
      "source": [
        "sample_tweets = training_data['Review'].sample(n=150)\n",
        "for tweet in sample_tweets:\n",
        "    print(tweet)\n",
        "    print(\"-\" *100)\n"
      ]
    },
    {
      "cell_type": "markdown",
      "metadata": {
        "id": "UqdSUtbdorxd"
      },
      "source": [
        "- check dataset balancing"
      ]
    },
    {
      "cell_type": "code",
      "execution_count": 100,
      "metadata": {
        "colab": {
          "base_uri": "https://localhost:8080/"
        },
        "id": "JBHrSvXhorxd",
        "outputId": "f97c2eea-3467-4947-8ec0-6249c6d86e0b"
      },
      "outputs": [
        {
          "name": "stdout",
          "output_type": "stream",
          "text": [
            "Class Counts:\n",
            "Rating\n",
            "5    17539\n",
            "1    14102\n",
            "4     6302\n",
            "2     5730\n",
            "3     5469\n",
            "Name: count, dtype: int64\n"
          ]
        }
      ],
      "source": [
        "class_counts = training_data['Rating'].value_counts()\n",
        "print(\"Class Counts:\")\n",
        "print(class_counts)"
      ]
    },
    {
      "cell_type": "markdown",
      "metadata": {
        "id": "XxkDqcTiNtrK"
      },
      "source": [
        "\n",
        "\n",
        "*   will use macro-avg to counter the imbalance\n",
        "\n"
      ]
    },
    {
      "cell_type": "markdown",
      "metadata": {
        "id": "x3wl_crkorxd"
      },
      "source": [
        "- Cleaning and Preprocessing are:\n",
        "    - tokenization\n",
        "    - lemmetizing\n",
        "    - emojis, punctuation, symbols and non words chars in general\n",
        "    - slang (bcuz ui app .. )\n",
        "    - contractions (it's ..)\n",
        "    - digits\n",
        "    - stop words\n",
        "    - lowercasing\n",
        "    - embedding\n",
        "  "
      ]
    },
    {
      "cell_type": "markdown",
      "metadata": {
        "id": "XyJkqK9gorxe"
      },
      "source": [
        "### Cleaning and Preprocessing"
      ]
    },
    {
      "cell_type": "code",
      "execution_count": 15,
      "metadata": {
        "colab": {
          "base_uri": "https://localhost:8080/"
        },
        "id": "GVjzzLhworxe",
        "outputId": "a5143e0a-1028-4700-a757-c2c769146eac"
      },
      "outputs": [
        {
          "name": "stderr",
          "output_type": "stream",
          "text": [
            "[nltk_data] Downloading package stopwords to /root/nltk_data...\n",
            "[nltk_data]   Unzipping corpora/stopwords.zip.\n"
          ]
        }
      ],
      "source": [
        "import nltk\n",
        "nltk.download('stopwords')\n",
        "from nltk.corpus import stopwords\n",
        "stop_words = set(stopwords.words('english'))"
      ]
    },
    {
      "cell_type": "code",
      "execution_count": 16,
      "metadata": {
        "colab": {
          "base_uri": "https://localhost:8080/"
        },
        "id": "u2EYQvrBorxf",
        "outputId": "4ed4d3a9-1aae-4d72-a72e-c7f589969dcf"
      },
      "outputs": [
        {
          "name": "stderr",
          "output_type": "stream",
          "text": [
            "[nltk_data] Downloading package punkt to /root/nltk_data...\n",
            "[nltk_data]   Unzipping tokenizers/punkt.zip.\n"
          ]
        },
        {
          "data": {
            "text/plain": [
              "True"
            ]
          },
          "execution_count": 16,
          "metadata": {},
          "output_type": "execute_result"
        }
      ],
      "source": [
        " nltk.download('punkt') #tokenizing"
      ]
    },
    {
      "cell_type": "code",
      "execution_count": 17,
      "metadata": {
        "id": "dSCmYlYC-wdb"
      },
      "outputs": [],
      "source": [
        "from sklearn.base import BaseEstimator, TransformerMixin\n",
        "import re"
      ]
    },
    {
      "cell_type": "code",
      "execution_count": 18,
      "metadata": {
        "colab": {
          "base_uri": "https://localhost:8080/"
        },
        "id": "IZYHhTRzQm_I",
        "outputId": "2620ac75-b761-4b3f-f0af-5ff8ac77e791"
      },
      "outputs": [
        {
          "name": "stderr",
          "output_type": "stream",
          "text": [
            "[nltk_data] Downloading package wordnet to /root/nltk_data...\n"
          ]
        }
      ],
      "source": [
        "nltk.download('wordnet')\n",
        "from nltk.stem import WordNetLemmatizer\n",
        "lemmatizer = WordNetLemmatizer()"
      ]
    },
    {
      "cell_type": "code",
      "execution_count": 20,
      "metadata": {
        "id": "6QS36mn7RY8E"
      },
      "outputs": [],
      "source": [
        "import contractions"
      ]
    },
    {
      "cell_type": "code",
      "execution_count": 30,
      "metadata": {
        "id": "CjgoRkhuwRxw"
      },
      "outputs": [],
      "source": [
        "import spacy"
      ]
    },
    {
      "cell_type": "code",
      "execution_count": 47,
      "metadata": {
        "id": "z8U-idnNwLRg"
      },
      "outputs": [],
      "source": [
        "nlp = spacy.load('en_core_web_md')"
      ]
    },
    {
      "cell_type": "code",
      "execution_count": 102,
      "metadata": {
        "colab": {
          "base_uri": "https://localhost:8080/"
        },
        "id": "Qd7huckL9Fke",
        "outputId": "8c989441-0b2b-40b3-fb95-dace5f06c909"
      },
      "outputs": [
        {
          "data": {
            "text/plain": [
              "(49142, 2)"
            ]
          },
          "execution_count": 102,
          "metadata": {},
          "output_type": "execute_result"
        }
      ],
      "source": [
        "training_data.shape"
      ]
    },
    {
      "cell_type": "code",
      "execution_count": 126,
      "metadata": {
        "id": "vliR2YwhxvFQ"
      },
      "outputs": [],
      "source": [
        "class CustomTransformer(BaseEstimator, TransformerMixin):\n",
        "      def preprocess(self,review):\n",
        "        review = review.lower() #lower case\n",
        "        review = review.replace(\"bcuz\", \"because\")\n",
        "        review = review.replace(\"ui\", \"user interface\")\n",
        "        review = review.replace(\"app\", \"application\")\n",
        "        review = review.replace(\"apps\", \"applications\")\n",
        "        words = nltk.word_tokenize(review)\n",
        "        transformed_words = [contractions.fix(word) for word in words]  #remove contractions\n",
        "        transformed_words = [lemmatizer.lemmatize(word) for word in transformed_words if word.lower() not in stop_words] #lemm and remove stop words\n",
        "        transformed_words = ' '.join(transformed_words)             #transformed_words\n",
        "\n",
        "        transformed_words = re.sub(r'[^\\w\\s]', '', transformed_words) #remove non-word characters except space\n",
        "        transformed_words = re.sub(r'\\d+', '', transformed_words) #remove digits\n",
        "        transformed_words = re.sub(\"[ʖᕤ]\", \"\", transformed_words)\n",
        "        transformed_words = re.sub(r'\\s+', ' ', transformed_words).strip()\n",
        "\n",
        "        return transformed_words\n",
        "\n",
        "      def get_embdng(self,data):\n",
        "        embndg_mtx = np.zeros((len(data), 300))\n",
        "        for i, doc in enumerate(nlp.pipe(data)):\n",
        "            embndg_mtx[i, :] = doc.vector\n",
        "        return embndg_mtx\n",
        "\n",
        "\n",
        "      def transform(self, X):\n",
        "        transformed_X = X.copy()\n",
        "        transformed_X['Review'] = transformed_X['Review'].apply(self.preprocess)\n",
        "        embndg_mtx = self.get_embdng(transformed_X['Review'].values.tolist())\n",
        "        return embndg_mtx\n"
      ]
    },
    {
      "cell_type": "code",
      "execution_count": 127,
      "metadata": {
        "id": "SnYg-Z18_SbN"
      },
      "outputs": [],
      "source": [
        "x_train = CustomTransformer().transform(training_data)"
      ]
    },
    {
      "cell_type": "code",
      "execution_count": 103,
      "metadata": {
        "id": "SCqO9hKg0fWr"
      },
      "outputs": [],
      "source": [
        "y_train = training_data[\"Rating\"]"
      ]
    },
    {
      "cell_type": "code",
      "execution_count": 128,
      "metadata": {
        "colab": {
          "base_uri": "https://localhost:8080/"
        },
        "id": "f5bxr2p85xpz",
        "outputId": "58266d2e-c38f-4bb2-bd32-66380e59657c"
      },
      "outputs": [
        {
          "data": {
            "text/plain": [
              "(49142, 300)"
            ]
          },
          "execution_count": 128,
          "metadata": {},
          "output_type": "execute_result"
        }
      ],
      "source": [
        "x_train.shape"
      ]
    },
    {
      "cell_type": "code",
      "execution_count": 129,
      "metadata": {
        "colab": {
          "base_uri": "https://localhost:8080/"
        },
        "id": "pCNE0c9K5z8k",
        "outputId": "2f7ca62d-6c4b-4ded-a29a-19c9edd84818"
      },
      "outputs": [
        {
          "data": {
            "text/plain": [
              "(49142,)"
            ]
          },
          "execution_count": 129,
          "metadata": {},
          "output_type": "execute_result"
        }
      ],
      "source": [
        "y_train.shape"
      ]
    },
    {
      "cell_type": "code",
      "execution_count": 134,
      "metadata": {
        "id": "D287Xkcv-QCL"
      },
      "outputs": [],
      "source": [
        "from sklearn.linear_model import LogisticRegression\n",
        "logistic_model = LogisticRegression()"
      ]
    },
    {
      "cell_type": "code",
      "execution_count": 131,
      "metadata": {
        "colab": {
          "base_uri": "https://localhost:8080/",
          "height": 214
        },
        "id": "VFQGrmfH-h7U",
        "outputId": "cd287af9-fc74-4bfa-9d23-fb5a83efe1ad"
      },
      "outputs": [
        {
          "name": "stderr",
          "output_type": "stream",
          "text": [
            "/usr/local/lib/python3.10/dist-packages/sklearn/linear_model/_logistic.py:458: ConvergenceWarning: lbfgs failed to converge (status=1):\n",
            "STOP: TOTAL NO. of ITERATIONS REACHED LIMIT.\n",
            "\n",
            "Increase the number of iterations (max_iter) or scale the data as shown in:\n",
            "    https://scikit-learn.org/stable/modules/preprocessing.html\n",
            "Please also refer to the documentation for alternative solver options:\n",
            "    https://scikit-learn.org/stable/modules/linear_model.html#logistic-regression\n",
            "  n_iter_i = _check_optimize_result(\n"
          ]
        },
        {
          "data": {
            "text/html": [
              "<style>#sk-container-id-6 {color: black;background-color: white;}#sk-container-id-6 pre{padding: 0;}#sk-container-id-6 div.sk-toggleable {background-color: white;}#sk-container-id-6 label.sk-toggleable__label {cursor: pointer;display: block;width: 100%;margin-bottom: 0;padding: 0.3em;box-sizing: border-box;text-align: center;}#sk-container-id-6 label.sk-toggleable__label-arrow:before {content: \"▸\";float: left;margin-right: 0.25em;color: #696969;}#sk-container-id-6 label.sk-toggleable__label-arrow:hover:before {color: black;}#sk-container-id-6 div.sk-estimator:hover label.sk-toggleable__label-arrow:before {color: black;}#sk-container-id-6 div.sk-toggleable__content {max-height: 0;max-width: 0;overflow: hidden;text-align: left;background-color: #f0f8ff;}#sk-container-id-6 div.sk-toggleable__content pre {margin: 0.2em;color: black;border-radius: 0.25em;background-color: #f0f8ff;}#sk-container-id-6 input.sk-toggleable__control:checked~div.sk-toggleable__content {max-height: 200px;max-width: 100%;overflow: auto;}#sk-container-id-6 input.sk-toggleable__control:checked~label.sk-toggleable__label-arrow:before {content: \"▾\";}#sk-container-id-6 div.sk-estimator input.sk-toggleable__control:checked~label.sk-toggleable__label {background-color: #d4ebff;}#sk-container-id-6 div.sk-label input.sk-toggleable__control:checked~label.sk-toggleable__label {background-color: #d4ebff;}#sk-container-id-6 input.sk-hidden--visually {border: 0;clip: rect(1px 1px 1px 1px);clip: rect(1px, 1px, 1px, 1px);height: 1px;margin: -1px;overflow: hidden;padding: 0;position: absolute;width: 1px;}#sk-container-id-6 div.sk-estimator {font-family: monospace;background-color: #f0f8ff;border: 1px dotted black;border-radius: 0.25em;box-sizing: border-box;margin-bottom: 0.5em;}#sk-container-id-6 div.sk-estimator:hover {background-color: #d4ebff;}#sk-container-id-6 div.sk-parallel-item::after {content: \"\";width: 100%;border-bottom: 1px solid gray;flex-grow: 1;}#sk-container-id-6 div.sk-label:hover label.sk-toggleable__label {background-color: #d4ebff;}#sk-container-id-6 div.sk-serial::before {content: \"\";position: absolute;border-left: 1px solid gray;box-sizing: border-box;top: 0;bottom: 0;left: 50%;z-index: 0;}#sk-container-id-6 div.sk-serial {display: flex;flex-direction: column;align-items: center;background-color: white;padding-right: 0.2em;padding-left: 0.2em;position: relative;}#sk-container-id-6 div.sk-item {position: relative;z-index: 1;}#sk-container-id-6 div.sk-parallel {display: flex;align-items: stretch;justify-content: center;background-color: white;position: relative;}#sk-container-id-6 div.sk-item::before, #sk-container-id-6 div.sk-parallel-item::before {content: \"\";position: absolute;border-left: 1px solid gray;box-sizing: border-box;top: 0;bottom: 0;left: 50%;z-index: -1;}#sk-container-id-6 div.sk-parallel-item {display: flex;flex-direction: column;z-index: 1;position: relative;background-color: white;}#sk-container-id-6 div.sk-parallel-item:first-child::after {align-self: flex-end;width: 50%;}#sk-container-id-6 div.sk-parallel-item:last-child::after {align-self: flex-start;width: 50%;}#sk-container-id-6 div.sk-parallel-item:only-child::after {width: 0;}#sk-container-id-6 div.sk-dashed-wrapped {border: 1px dashed gray;margin: 0 0.4em 0.5em 0.4em;box-sizing: border-box;padding-bottom: 0.4em;background-color: white;}#sk-container-id-6 div.sk-label label {font-family: monospace;font-weight: bold;display: inline-block;line-height: 1.2em;}#sk-container-id-6 div.sk-label-container {text-align: center;}#sk-container-id-6 div.sk-container {/* jupyter's `normalize.less` sets `[hidden] { display: none; }` but bootstrap.min.css set `[hidden] { display: none !important; }` so we also need the `!important` here to be able to override the default hidden behavior on the sphinx rendered scikit-learn.org. See: https://github.com/scikit-learn/scikit-learn/issues/21755 */display: inline-block !important;position: relative;}#sk-container-id-6 div.sk-text-repr-fallback {display: none;}</style><div id=\"sk-container-id-6\" class=\"sk-top-container\"><div class=\"sk-text-repr-fallback\"><pre>LogisticRegression()</pre><b>In a Jupyter environment, please rerun this cell to show the HTML representation or trust the notebook. <br />On GitHub, the HTML representation is unable to render, please try loading this page with nbviewer.org.</b></div><div class=\"sk-container\" hidden><div class=\"sk-item\"><div class=\"sk-estimator sk-toggleable\"><input class=\"sk-toggleable__control sk-hidden--visually\" id=\"sk-estimator-id-6\" type=\"checkbox\" checked><label for=\"sk-estimator-id-6\" class=\"sk-toggleable__label sk-toggleable__label-arrow\">LogisticRegression</label><div class=\"sk-toggleable__content\"><pre>LogisticRegression()</pre></div></div></div></div></div>"
            ],
            "text/plain": [
              "LogisticRegression()"
            ]
          },
          "execution_count": 131,
          "metadata": {},
          "output_type": "execute_result"
        }
      ],
      "source": [
        "logistic_model.fit(x_train,y_train)"
      ]
    },
    {
      "cell_type": "markdown",
      "metadata": {
        "id": "85JlkIQXorxg"
      },
      "source": [
        "#### Evaluation"
      ]
    },
    {
      "cell_type": "markdown",
      "metadata": {
        "id": "7JpDSDNO-wdf"
      },
      "source": [
        "**Evaluation metric:**\n",
        "macro f1 score\n",
        "\n",
        "Macro F1 score is a useful metric in scenarios where you want to evaluate the overall performance of a multi-class classification model, **particularly when the classes are imbalanced**"
      ]
    },
    {
      "cell_type": "markdown",
      "metadata": {
        "id": "mnHA6uTR-wdg"
      },
      "source": [
        "![Calculation](https://assets-global.website-files.com/5d7b77b063a9066d83e1209c/639c3d934e82c1195cdf3c60_macro-f1.webp)"
      ]
    },
    {
      "cell_type": "code",
      "execution_count": 113,
      "metadata": {
        "colab": {
          "base_uri": "https://localhost:8080/"
        },
        "id": "LQou8Z6m1XT9",
        "outputId": "21d7fc9d-ac38-46c7-c27d-7e6bc46dd491"
      },
      "outputs": [
        {
          "data": {
            "text/plain": [
              "(12319, 1)"
            ]
          },
          "execution_count": 113,
          "metadata": {},
          "output_type": "execute_result"
        }
      ],
      "source": [
        "y_test.shape"
      ]
    },
    {
      "cell_type": "code",
      "execution_count": 114,
      "metadata": {
        "colab": {
          "base_uri": "https://localhost:8080/"
        },
        "id": "j2_Q69k-1ZNy",
        "outputId": "f5f86fe9-d3b9-48fe-e22a-e18687a0773c"
      },
      "outputs": [
        {
          "data": {
            "text/plain": [
              "(12319, 1)"
            ]
          },
          "execution_count": 114,
          "metadata": {},
          "output_type": "execute_result"
        }
      ],
      "source": [
        "x_test.shape"
      ]
    },
    {
      "cell_type": "code",
      "execution_count": 115,
      "metadata": {
        "id": "qW26jZmG1oUi"
      },
      "outputs": [],
      "source": [
        "test_data = pd.concat([x_test, y_test], axis = 1)"
      ]
    },
    {
      "cell_type": "code",
      "execution_count": 121,
      "metadata": {
        "id": "FEy5hzhT1f89"
      },
      "outputs": [],
      "source": [
        "x_test = CustomTransformer().transform(test_data)"
      ]
    },
    {
      "cell_type": "code",
      "execution_count": 132,
      "metadata": {
        "id": "vpZUhTKv1AYg"
      },
      "outputs": [],
      "source": [
        "y_pred = model.predict(x_test)"
      ]
    },
    {
      "cell_type": "code",
      "execution_count": 133,
      "metadata": {
        "colab": {
          "base_uri": "https://localhost:8080/"
        },
        "id": "SrNIvntA-wdg",
        "outputId": "aebfa31e-3d70-4cea-fe23-bdb495477569"
      },
      "outputs": [
        {
          "data": {
            "text/plain": [
              "0.35671702501618324"
            ]
          },
          "execution_count": 133,
          "metadata": {},
          "output_type": "execute_result"
        }
      ],
      "source": [
        "from sklearn.metrics import f1_score\n",
        "\n",
        "macro_f1 = f1_score(test_data['Rating'], y_pred, average='macro')\n",
        "macro_f1"
      ]
    },
    {
      "cell_type": "code",
      "execution_count": null,
      "metadata": {
        "id": "LxJ2AaU-1_CR"
      },
      "outputs": [],
      "source": []
    }
  ],
  "metadata": {
    "colab": {
      "provenance": []
    },
    "kernelspec": {
      "display_name": "Python 3 (ipykernel)",
      "language": "python",
      "name": "python3"
    },
    "language_info": {
      "codemirror_mode": {
        "name": "ipython",
        "version": 3
      },
      "file_extension": ".py",
      "mimetype": "text/x-python",
      "name": "python",
      "nbconvert_exporter": "python",
      "pygments_lexer": "ipython3",
      "version": "3.11.7"
    }
  },
  "nbformat": 4,
  "nbformat_minor": 0
}
